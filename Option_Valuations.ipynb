{
  "cells": [
    {
      "cell_type": "markdown",
      "metadata": {
        "id": "view-in-github",
        "colab_type": "text"
      },
      "source": [
        "<a href=\"https://colab.research.google.com/github/HARJAP-SINGH-3105/Options-Pricing-and-Valuations/blob/main/Option_Valuations.ipynb\" target=\"_parent\"><img src=\"https://colab.research.google.com/assets/colab-badge.svg\" alt=\"Open In Colab\"/></a>"
      ]
    },
    {
      "cell_type": "code",
      "execution_count": null,
      "metadata": {
        "id": "HUHeLCzF4W0n"
      },
      "outputs": [],
      "source": [
        "import numpy as np\n",
        "from matplotlib import pyplot as plt\n",
        "import pandas as pd\n"
      ]
    },
    {
      "cell_type": "markdown",
      "metadata": {
        "id": "caw3fQ__m38J"
      },
      "source": [
        "#### ASSUMPTION: we are assuming European options throughout this notebook i.e. if options are exercised, then it will be only on Maturity date"
      ]
    },
    {
      "cell_type": "code",
      "execution_count": null,
      "metadata": {
        "colab": {
          "base_uri": "https://localhost:8080/"
        },
        "id": "NEkHTY3z8S1o",
        "outputId": "415c2bf3-60a3-41cd-d1e6-fb20d18dbc9f"
      },
      "outputs": [
        {
          "name": "stdout",
          "output_type": "stream",
          "text": [
            "Looking in indexes: https://pypi.org/simple, https://us-python.pkg.dev/colab-wheels/public/simple/\n",
            "Collecting yahoo_fin\n",
            "  Downloading yahoo_fin-0.8.9.1-py3-none-any.whl (10 kB)\n",
            "Collecting requests-html\n",
            "  Downloading requests_html-0.10.0-py3-none-any.whl (13 kB)\n",
            "Requirement already satisfied: pandas in /usr/local/lib/python3.8/dist-packages (from yahoo_fin) (1.3.5)\n",
            "Collecting feedparser\n",
            "  Downloading feedparser-6.0.10-py3-none-any.whl (81 kB)\n",
            "\u001b[K     |████████████████████████████████| 81 kB 7.7 MB/s \n",
            "\u001b[?25hRequirement already satisfied: requests in /usr/local/lib/python3.8/dist-packages (from yahoo_fin) (2.23.0)\n",
            "Collecting sgmllib3k\n",
            "  Downloading sgmllib3k-1.0.0.tar.gz (5.8 kB)\n",
            "Requirement already satisfied: numpy>=1.17.3 in /usr/local/lib/python3.8/dist-packages (from pandas->yahoo_fin) (1.21.6)\n",
            "Requirement already satisfied: python-dateutil>=2.7.3 in /usr/local/lib/python3.8/dist-packages (from pandas->yahoo_fin) (2.8.2)\n",
            "Requirement already satisfied: pytz>=2017.3 in /usr/local/lib/python3.8/dist-packages (from pandas->yahoo_fin) (2022.6)\n",
            "Requirement already satisfied: six>=1.5 in /usr/local/lib/python3.8/dist-packages (from python-dateutil>=2.7.3->pandas->yahoo_fin) (1.15.0)\n",
            "Requirement already satisfied: idna<3,>=2.5 in /usr/local/lib/python3.8/dist-packages (from requests->yahoo_fin) (2.10)\n",
            "Requirement already satisfied: certifi>=2017.4.17 in /usr/local/lib/python3.8/dist-packages (from requests->yahoo_fin) (2022.12.7)\n",
            "Requirement already satisfied: chardet<4,>=3.0.2 in /usr/local/lib/python3.8/dist-packages (from requests->yahoo_fin) (3.0.4)\n",
            "Requirement already satisfied: urllib3!=1.25.0,!=1.25.1,<1.26,>=1.21.1 in /usr/local/lib/python3.8/dist-packages (from requests->yahoo_fin) (1.24.3)\n",
            "Collecting pyppeteer>=0.0.14\n",
            "  Downloading pyppeteer-1.0.2-py3-none-any.whl (83 kB)\n",
            "\u001b[K     |████████████████████████████████| 83 kB 1.8 MB/s \n",
            "\u001b[?25hCollecting pyquery\n",
            "  Downloading pyquery-2.0.0-py3-none-any.whl (22 kB)\n",
            "Collecting w3lib\n",
            "  Downloading w3lib-2.1.1-py3-none-any.whl (21 kB)\n",
            "Collecting parse\n",
            "  Downloading parse-1.19.0.tar.gz (30 kB)\n",
            "Requirement already satisfied: bs4 in /usr/local/lib/python3.8/dist-packages (from requests-html->yahoo_fin) (0.0.1)\n",
            "Collecting fake-useragent\n",
            "  Downloading fake_useragent-1.1.1-py3-none-any.whl (50 kB)\n",
            "\u001b[K     |████████████████████████████████| 50 kB 8.2 MB/s \n",
            "\u001b[?25hRequirement already satisfied: importlib-metadata>=1.4 in /usr/local/lib/python3.8/dist-packages (from pyppeteer>=0.0.14->requests-html->yahoo_fin) (5.1.0)\n",
            "Collecting websockets<11.0,>=10.0\n",
            "  Downloading websockets-10.4-cp38-cp38-manylinux_2_5_x86_64.manylinux1_x86_64.manylinux_2_17_x86_64.manylinux2014_x86_64.whl (106 kB)\n",
            "\u001b[K     |████████████████████████████████| 106 kB 75.3 MB/s \n",
            "\u001b[?25hRequirement already satisfied: appdirs<2.0.0,>=1.4.3 in /usr/local/lib/python3.8/dist-packages (from pyppeteer>=0.0.14->requests-html->yahoo_fin) (1.4.4)\n",
            "Collecting urllib3!=1.25.0,!=1.25.1,<1.26,>=1.21.1\n",
            "  Downloading urllib3-1.25.11-py2.py3-none-any.whl (127 kB)\n",
            "\u001b[K     |████████████████████████████████| 127 kB 75.9 MB/s \n",
            "\u001b[?25hCollecting pyee<9.0.0,>=8.1.0\n",
            "  Downloading pyee-8.2.2-py2.py3-none-any.whl (12 kB)\n",
            "Requirement already satisfied: tqdm<5.0.0,>=4.42.1 in /usr/local/lib/python3.8/dist-packages (from pyppeteer>=0.0.14->requests-html->yahoo_fin) (4.64.1)\n",
            "Requirement already satisfied: zipp>=0.5 in /usr/local/lib/python3.8/dist-packages (from importlib-metadata>=1.4->pyppeteer>=0.0.14->requests-html->yahoo_fin) (3.11.0)\n",
            "Requirement already satisfied: beautifulsoup4 in /usr/local/lib/python3.8/dist-packages (from bs4->requests-html->yahoo_fin) (4.6.3)\n",
            "Requirement already satisfied: importlib-resources>=5.0 in /usr/local/lib/python3.8/dist-packages (from fake-useragent->requests-html->yahoo_fin) (5.10.1)\n",
            "Requirement already satisfied: lxml>=2.1 in /usr/local/lib/python3.8/dist-packages (from pyquery->requests-html->yahoo_fin) (4.9.2)\n",
            "Collecting cssselect>=1.2.0\n",
            "  Downloading cssselect-1.2.0-py2.py3-none-any.whl (18 kB)\n",
            "Building wheels for collected packages: parse, sgmllib3k\n",
            "  Building wheel for parse (setup.py) ... \u001b[?25l\u001b[?25hdone\n",
            "  Created wheel for parse: filename=parse-1.19.0-py3-none-any.whl size=24591 sha256=582c5fc0de35ed8dcdc66be2588a7547594ab687d3722af76c5a6c90c98bba75\n",
            "  Stored in directory: /root/.cache/pip/wheels/e5/33/1f/68392720485b3ecf125a69e700baaab7624616deedea2fa6e2\n",
            "  Building wheel for sgmllib3k (setup.py) ... \u001b[?25l\u001b[?25hdone\n",
            "  Created wheel for sgmllib3k: filename=sgmllib3k-1.0.0-py3-none-any.whl size=6066 sha256=a1c4e9f9ceb109e829cf494536dd81322f6075382c31edc94111ad24fdc2d93a\n",
            "  Stored in directory: /root/.cache/pip/wheels/83/63/2f/117884c3b19d46b64d3d61690333aa80c88dc14050e269c546\n",
            "Successfully built parse sgmllib3k\n",
            "Installing collected packages: websockets, urllib3, pyee, cssselect, w3lib, sgmllib3k, pyquery, pyppeteer, parse, fake-useragent, requests-html, feedparser, yahoo-fin\n",
            "  Attempting uninstall: urllib3\n",
            "    Found existing installation: urllib3 1.24.3\n",
            "    Uninstalling urllib3-1.24.3:\n",
            "      Successfully uninstalled urllib3-1.24.3\n",
            "Successfully installed cssselect-1.2.0 fake-useragent-1.1.1 feedparser-6.0.10 parse-1.19.0 pyee-8.2.2 pyppeteer-1.0.2 pyquery-2.0.0 requests-html-0.10.0 sgmllib3k-1.0.0 urllib3-1.25.11 w3lib-2.1.1 websockets-10.4 yahoo-fin-0.8.9.1\n"
          ]
        }
      ],
      "source": [
        "!pip install yahoo_fin\n"
      ]
    },
    {
      "cell_type": "code",
      "execution_count": null,
      "metadata": {
        "id": "DjJNQTHY8cgH"
      },
      "outputs": [],
      "source": [
        "from yahoo_fin.stock_info import *\n",
        "from yahoo_fin.options import *"
      ]
    },
    {
      "cell_type": "code",
      "execution_count": null,
      "metadata": {
        "colab": {
          "base_uri": "https://localhost:8080/"
        },
        "id": "NRNs1mwz8wcJ",
        "outputId": "22ad8a4b-a360-4ede-91b2-bffbd3953353"
      },
      "outputs": [
        {
          "data": {
            "text/plain": [
              "503"
            ]
          },
          "execution_count": 4,
          "metadata": {},
          "output_type": "execute_result"
        }
      ],
      "source": [
        "sp_stocks = tickers_sp500()\n",
        "len(sp_stocks)"
      ]
    },
    {
      "cell_type": "code",
      "execution_count": null,
      "metadata": {
        "colab": {
          "base_uri": "https://localhost:8080/"
        },
        "id": "kvfSuIFX87OV",
        "outputId": "6ce53f5e-1526-477b-94e7-a6d850411690"
      },
      "outputs": [
        {
          "name": "stdout",
          "output_type": "stream",
          "text": [
            "The number of stocks: 501\n"
          ]
        }
      ],
      "source": [
        "# # yahoo_fin has trouble pulling info for tickers with a hyphen in their name. So lets remove that.......\n",
        "for item in sp_stocks:\n",
        "  if(len(item.split('-'))>1):\n",
        "    sp_stocks.remove(item)\n",
        "print('The number of stocks: {}'.format(len(sp_stocks)))\n",
        "# sp_stocks"
      ]
    },
    {
      "cell_type": "code",
      "execution_count": null,
      "metadata": {
        "colab": {
          "base_uri": "https://localhost:8080/"
        },
        "id": "hSDfTcFk9HVy",
        "outputId": "12b7e7c3-491f-49a2-bb11-326157470496"
      },
      "outputs": [
        {
          "data": {
            "text/plain": [
              "['January 20, 2023',\n",
              " 'February 17, 2023',\n",
              " 'May 19, 2023',\n",
              " 'August 18, 2023',\n",
              " 'January 19, 2024',\n",
              " 'January 17, 2025']"
            ]
          },
          "execution_count": 6,
          "metadata": {},
          "output_type": "execute_result"
        }
      ],
      "source": [
        "# Usually in the America, expiry day is the 3rd friday of the contract month at\n",
        "get_expiration_dates(sp_stocks[0])"
      ]
    },
    {
      "cell_type": "code",
      "execution_count": null,
      "metadata": {
        "colab": {
          "background_save": true,
          "base_uri": "https://localhost:8080/"
        },
        "id": "USn_gtISDe6d",
        "outputId": "cd0a2736-2e86-45a4-d109-1cc4bbe7b4d8"
      },
      "outputs": [
        {
          "name": "stdout",
          "output_type": "stream",
          "text": [
            "149.17999267578125\n",
            "A\n",
            "12.369999885559082\n",
            "AAL\n",
            "145.66000366210938\n",
            "AAP\n",
            "126.67500305175781\n",
            "AAPL\n",
            "163.0500030517578\n",
            "ABBV\n",
            "169.17999267578125\n",
            "ABC\n",
            "108.69999694824219\n",
            "ABT\n",
            "63.459999084472656\n",
            "ACGL\n",
            "265.8900146484375\n",
            "ACN\n",
            "330.6400146484375\n",
            "ADBE\n",
            "161.0800018310547\n",
            "ADI\n",
            "93.44999694824219\n",
            "ADM\n",
            "239.86500549316406\n",
            "ADP\n",
            "183.7100067138672\n",
            "ADSK\n",
            "90.16999816894531\n",
            "AEE\n",
            "95.98999786376953\n",
            "AEP\n",
            "28.469999313354492\n",
            "AES\n",
            "71.98999786376953\n",
            "AFL\n",
            "63.150001525878906\n",
            "AIG\n",
            "124.41999816894531\n",
            "AIZ\n",
            "189.13999938964844\n",
            "AJG\n",
            "83.51499938964844\n",
            "AKAM\n",
            "214.36000061035156\n",
            "ALB\n",
            "201.1300048828125\n",
            "ALGN\n",
            "42.2400016784668\n",
            "ALK\n",
            "135.83999633789062\n",
            "ALL\n",
            "105.19000244140625\n",
            "ALLE\n",
            "94.29000091552734\n",
            "AMAT\n",
            "11.984999656677246\n",
            "AMCR\n",
            "62.244998931884766\n",
            "AMD\n",
            "139.50999450683594\n",
            "AME\n",
            "262.20001220703125\n",
            "AMGN\n",
            "307.29998779296875\n",
            "AMP\n",
            "212.52000427246094\n",
            "AMT\n",
            "82.02999877929688\n",
            "AMZN\n",
            "118.41999816894531\n",
            "ANET\n",
            "234.5800018310547\n",
            "ANSS\n",
            "300.8599853515625\n",
            "AON\n",
            "57.290000915527344\n",
            "AOS\n",
            "45.60499954223633\n",
            "APA\n",
            "310.489990234375\n",
            "APD\n",
            "75.54000091552734\n",
            "APH\n",
            "90.97000122070312\n",
            "APTV\n",
            "144.60000610351562\n",
            "ARE\n",
            "115.58999633789062\n",
            "ATO\n",
            "76.31500244140625\n",
            "ATVI\n",
            "162.47500610351562\n",
            "AVB\n",
            "548.52001953125\n",
            "AVGO\n",
            "180.8000030517578\n",
            "AVY\n",
            "154.2050018310547\n",
            "AWK\n",
            "145.22000122070312\n",
            "AXP\n",
            "2464.85009765625\n",
            "AZO\n",
            "188.97999572753906\n",
            "BA\n",
            "32.68000030517578\n",
            "BAC\n",
            "51.025001525878906\n",
            "BALL\n",
            "50.5\n",
            "BAX\n",
            "40.98899841308594\n",
            "BBWI\n",
            "80.63999938964844\n",
            "BBY\n",
            "254.5449981689453\n",
            "BDX\n",
            "26.68000030517578\n",
            "BEN\n",
            "274.0\n",
            "BIIB\n",
            "412.0249938964844\n",
            "BIO\n",
            "44.724998474121094\n",
            "BK\n",
            "1995.5999755859375\n",
            "BKNG\n",
            "28.43000030517578\n",
            "BKR\n",
            "704.239990234375\n",
            "BLK\n",
            "72.2699966430664\n",
            "BMY\n",
            "134.86000061035156\n",
            "BR\n",
            "56.869998931884766\n",
            "BRO\n",
            "46.33000183105469\n",
            "BSX\n",
            "39.59000015258789\n",
            "BWA\n",
            "67.69000244140625\n",
            "BXP\n",
            "44.3849983215332\n",
            "C\n",
            "38.91999816894531\n",
            "CAG\n",
            "79.08999633789062\n",
            "CAH\n",
            "41.38999938964844\n",
            "CARR\n",
            "239.9434051513672\n",
            "CAT\n",
            "221.0\n",
            "CB\n",
            "126.19999694824219\n",
            "CBOE\n",
            "76.12999725341797\n",
            "CBRE\n",
            "136.89999389648438\n",
            "CCI\n",
            "7.730000019073486\n",
            "CCL\n",
            "60.5099983215332\n",
            "CDAY\n",
            "159.2100067138672\n",
            "CDNS\n",
            "177.47999572753906\n",
            "CDW\n",
            "101.58499908447266\n",
            "CE\n",
            "87.3550033569336\n",
            "CEG\n",
            "86.65499877929688\n",
            "CF\n",
            "39.084999084472656\n",
            "CFG\n",
            "81.56999969482422\n",
            "CHD\n",
            "92.16000366210938\n",
            "CHRW\n",
            "332.0899963378906\n",
            "CHTR\n",
            "334.0199890136719\n",
            "CI\n",
            "103.63999938964844\n",
            "CINF\n",
            "79.42500305175781\n",
            "CL\n",
            "143.4550018310547\n",
            "CLX\n",
            "65.54000091552734\n",
            "CMA\n",
            "Option contracts are not available on February 17, 2023\n",
            "Option contracts are not available on February 17, 2023\n",
            "Option contracts are not available on February 17, 2023\n",
            "Option contracts are not available on February 17, 2023\n",
            "Option contracts are not available on February 17, 2023\n",
            "Option contracts are not available on February 17, 2023\n",
            "30.81999969482422\n",
            "CNP\n",
            "Option contracts are not available on February 17, 2023\n",
            "330.4100036621094\n",
            "COO\n",
            "115.76499938964844\n",
            "COP\n",
            "Option contracts are not available on February 17, 2023\n",
            "57.20000076293945\n",
            "CPB\n",
            "60.119998931884766\n",
            "CPRT\n",
            "111.5199966430664\n",
            "CPT\n",
            "217.44580078125\n",
            "CRL\n",
            "129.1199951171875\n",
            "CRM\n",
            "Option contracts are not available on February 17, 2023\n",
            "Option contracts are not available on February 17, 2023\n",
            "31.049999237060547\n",
            "CSX\n",
            "456.44000244140625\n",
            "CTAS\n",
            "Option contracts are not available on February 17, 2023\n",
            "Option contracts are not available on February 17, 2023\n",
            "Option contracts are not available on February 17, 2023\n",
            "Option contracts are not available on February 17, 2023\n",
            "93.18199920654297\n",
            "CVS\n",
            "176.5399932861328\n",
            "CVX\n",
            "Option contracts are not available on February 17, 2023\n",
            "61.7400016784668\n",
            "D\n",
            "Option contracts are not available on February 17, 2023\n",
            "Option contracts are not available on February 17, 2023\n",
            "Option contracts are not available on February 17, 2023\n",
            "Option contracts are not available on February 17, 2023\n",
            "246.32000732421875\n",
            "DG\n",
            "157.11000061035156\n",
            "DGX\n",
            "88.6500015258789\n",
            "DHI\n",
            "261.989990234375\n",
            "DHR\n",
            "85.26000213623047\n",
            "DIS\n",
            "Option contracts are not available on February 17, 2023\n",
            "Option contracts are not available on February 17, 2023\n",
            "142.30999755859375\n",
            "DLTR\n",
            "Option contracts are not available on February 17, 2023\n",
            "Option contracts are not available on February 17, 2023\n",
            "Option contracts are not available on February 17, 2023\n",
            "Option contracts are not available on February 17, 2023\n",
            "Option contracts are not available on February 17, 2023\n",
            "Option contracts are not available on February 17, 2023\n",
            "Option contracts are not available on February 17, 2023\n",
            "Option contracts are not available on February 17, 2023\n",
            "Option contracts are not available on February 17, 2023\n",
            "Option contracts are not available on February 17, 2023\n",
            "Option contracts are not available on February 17, 2023\n",
            "Option contracts are not available on February 17, 2023\n",
            "Option contracts are not available on February 17, 2023\n",
            "96.45999908447266\n",
            "ED\n",
            "Option contracts are not available on February 17, 2023\n",
            "Option contracts are not available on February 17, 2023\n",
            "Option contracts are not available on February 17, 2023\n",
            "Option contracts are not available on February 17, 2023\n",
            "Option contracts are not available on February 17, 2023\n",
            "Option contracts are not available on February 17, 2023\n",
            "264.82000732421875\n",
            "ENPH\n",
            "Option contracts are not available on February 17, 2023\n",
            "316.5799865722656\n",
            "EPAM\n",
            "Option contracts are not available on February 17, 2023\n",
            "Option contracts are not available on February 17, 2023\n",
            "Option contracts are not available on February 17, 2023\n",
            "84.8499984741211\n",
            "ES\n",
            "Option contracts are not available on February 17, 2023\n",
            "Option contracts are not available on February 17, 2023\n",
            "Option contracts are not available on February 17, 2023\n",
            "120.57499694824219\n",
            "ETSY\n",
            "Option contracts are not available on February 17, 2023\n",
            "73.66000366210938\n",
            "EW\n",
            "Option contracts are not available on February 17, 2023\n",
            "105.36000061035156\n",
            "EXPD\n",
            "Option contracts are not available on February 17, 2023\n",
            "Option contracts are not available on February 17, 2023\n",
            "Option contracts are not available on February 17, 2023\n",
            "Option contracts are not available on February 17, 2023\n",
            "47.148399353027344\n",
            "FAST\n",
            "37.755001068115234\n",
            "FCX\n",
            "Option contracts are not available on February 17, 2023\n",
            "Option contracts are not available on February 17, 2023\n",
            "Option contracts are not available on February 17, 2023\n",
            "Option contracts are not available on February 17, 2023\n",
            "Option contracts are not available on February 17, 2023\n",
            "Option contracts are not available on February 17, 2023\n",
            "32.67499923706055\n",
            "FITB\n",
            "181.1280975341797\n",
            "FLT\n",
            "Option contracts are not available on February 17, 2023\n",
            "Option contracts are not available on February 17, 2023\n",
            "Option contracts are not available on February 17, 2023\n",
            "118.62999725341797\n",
            "FRC\n",
            "101.8499984741211\n",
            "FRT\n",
            "Option contracts are not available on February 17, 2023\n",
            "Option contracts are not available on February 17, 2023\n",
            "Option contracts are not available on February 17, 2023\n",
            "248.66000366210938\n",
            "GD\n",
            "Option contracts are not available on February 17, 2023\n",
            "Option contracts are not available on February 17, 2023\n",
            "84.6050033569336\n",
            "GILD\n",
            "Option contracts are not available on February 17, 2023\n",
            "120.31999969482422\n",
            "GL\n",
            "31.520000457763672\n",
            "GLW\n",
            "Option contracts are not available on February 17, 2023\n",
            "94.74500274658203\n",
            "GNRC\n",
            "86.7750015258789\n",
            "GOOG\n",
            "86.30110168457031\n",
            "GOOGL\n",
            "176.6999969482422\n",
            "GPC\n",
            "96.68000030517578\n",
            "GPN\n",
            "Option contracts are not available on February 17, 2023\n",
            "Option contracts are not available on February 17, 2023\n",
            "Option contracts are not available on February 17, 2023\n",
            "Option contracts are not available on February 17, 2023\n",
            "Option contracts are not available on February 17, 2023\n",
            "Option contracts are not available on February 17, 2023\n",
            "Option contracts are not available on February 17, 2023\n",
            "317.17999267578125\n",
            "HD\n",
            "138.97500610351562\n",
            "HES\n",
            "Option contracts are not available on February 17, 2023\n",
            "Option contracts are not available on February 17, 2023\n",
            "Option contracts are not available on February 17, 2023\n",
            "Option contracts are not available on February 17, 2023\n",
            "Option contracts are not available on February 17, 2023\n",
            "15.630000114440918\n",
            "HPE\n",
            "26.579999923706055\n",
            "HPQ\n",
            "Option contracts are not available on February 17, 2023\n",
            "Option contracts are not available on February 17, 2023\n",
            "Option contracts are not available on February 17, 2023\n",
            "233.77000427246094\n",
            "HSY\n",
            "518.4600219726562\n",
            "HUM\n",
            "Option contracts are not available on February 17, 2023\n",
            "140.8699951171875\n",
            "IBM\n",
            "Option contracts are not available on February 17, 2023\n",
            "Option contracts are not available on February 17, 2023\n",
            "Option contracts are not available on February 17, 2023\n",
            "103.73999786376953\n",
            "IFF\n",
            "Option contracts are not available on February 17, 2023\n",
            "Option contracts are not available on February 17, 2023\n",
            "Option contracts are not available on February 17, 2023\n",
            "Option contracts are not available on February 17, 2023\n",
            "Option contracts are not available on February 17, 2023\n",
            "Option contracts are not available on February 17, 2023\n",
            "Option contracts are not available on February 17, 2023\n",
            "203.15499877929688\n",
            "IQV\n",
            "Option contracts are not available on February 17, 2023\n",
            "Option contracts are not available on February 17, 2023\n",
            "Option contracts are not available on February 17, 2023\n",
            "Option contracts are not available on February 17, 2023\n",
            "Option contracts are not available on February 17, 2023\n",
            "Option contracts are not available on February 17, 2023\n",
            "Option contracts are not available on February 17, 2023\n",
            "175.80999755859375\n",
            "JBHT\n",
            "Option contracts are not available on February 17, 2023\n",
            "Option contracts are not available on February 17, 2023\n",
            "Option contracts are not available on February 17, 2023\n",
            "Option contracts are not available on February 17, 2023\n",
            "Option contracts are not available on February 17, 2023\n",
            "Option contracts are not available on February 17, 2023\n",
            "Option contracts are not available on February 17, 2023\n",
            "Option contracts are not available on February 17, 2023\n",
            "168.0\n",
            "KEYS\n",
            "Option contracts are not available on February 17, 2023\n",
            "Option contracts are not available on February 17, 2023\n",
            "Option contracts are not available on February 17, 2023\n",
            "Option contracts are not available on February 17, 2023\n",
            "Option contracts are not available on February 17, 2023\n",
            "Option contracts are not available on February 17, 2023\n",
            "63.810001373291016\n",
            "KO\n",
            "Option contracts are not available on February 17, 2023\n",
            "Option contracts are not available on February 17, 2023\n",
            "104.98999786376953\n",
            "LDOS\n",
            "89.41000366210938\n",
            "LEN\n",
            "232.02999877929688\n",
            "LH\n",
            "204.77000427246094\n",
            "LHX\n",
            "Option contracts are not available on February 17, 2023\n",
            "53.56999969482422\n",
            "LKQ\n",
            "364.8599853515625\n",
            "LLY\n",
            "Option contracts are not available on February 17, 2023\n",
            "Option contracts are not available on February 17, 2023\n",
            "Option contracts are not available on February 17, 2023\n",
            "Option contracts are not available on February 17, 2023\n",
            "Option contracts are not available on February 17, 2023\n",
            "Option contracts are not available on February 17, 2023\n",
            "Option contracts are not available on February 17, 2023\n",
            "Option contracts are not available on February 17, 2023\n",
            "Option contracts are not available on February 17, 2023\n",
            "Option contracts are not available on February 17, 2023\n",
            "Option contracts are not available on February 17, 2023\n",
            "Option contracts are not available on February 17, 2023\n",
            "Option contracts are not available on February 17, 2023\n",
            "Option contracts are not available on February 17, 2023\n",
            "Option contracts are not available on February 17, 2023\n",
            "Option contracts are not available on February 17, 2023\n",
            "Option contracts are not available on February 17, 2023\n",
            "379.45001220703125\n",
            "MCK\n",
            "275.54998779296875\n",
            "MCO\n",
            "Option contracts are not available on February 17, 2023\n",
            "76.64990234375\n",
            "MDT\n",
            "Option contracts are not available on February 17, 2023\n",
            "Option contracts are not available on February 17, 2023\n",
            "Option contracts are not available on February 17, 2023\n",
            "97.30999755859375\n",
            "MHK\n",
            "Option contracts are not available on February 17, 2023\n",
            "280.1300048828125\n",
            "MKTX\n",
            "Option contracts are not available on February 17, 2023\n",
            "Option contracts are not available on February 17, 2023\n",
            "Option contracts are not available on February 17, 2023\n",
            "Option contracts are not available on February 17, 2023\n",
            "Option contracts are not available on February 17, 2023\n",
            "Option contracts are not available on February 17, 2023\n",
            "Option contracts are not available on February 17, 2023\n",
            "Option contracts are not available on February 17, 2023\n",
            "Option contracts are not available on February 17, 2023\n",
            "Option contracts are not available on February 17, 2023\n",
            "Option contracts are not available on February 17, 2023\n",
            "Option contracts are not available on February 17, 2023\n",
            "Option contracts are not available on February 17, 2023\n",
            "Option contracts are not available on February 17, 2023\n",
            "235.72000122070312\n",
            "MSFT\n",
            "Option contracts are not available on February 17, 2023\n",
            "Option contracts are not available on February 17, 2023\n",
            "Option contracts are not available on February 17, 2023\n",
            "Option contracts are not available on February 17, 2023\n",
            "Option contracts are not available on February 17, 2023\n",
            "Option contracts are not available on February 17, 2023\n",
            "Option contracts are not available on February 17, 2023\n",
            "Option contracts are not available on February 17, 2023\n",
            "83.47129821777344\n",
            "NEE\n",
            "Option contracts are not available on February 17, 2023\n",
            "Option contracts are not available on February 17, 2023\n",
            "Option contracts are not available on February 17, 2023\n",
            "Option contracts are not available on February 17, 2023\n",
            "542.0599975585938\n",
            "NOC\n",
            "374.6300964355469\n",
            "NOW\n",
            "Option contracts are not available on February 17, 2023\n",
            "Option contracts are not available on February 17, 2023\n",
            "Option contracts are not available on February 17, 2023\n",
            "Option contracts are not available on February 17, 2023\n",
            "Option contracts are not available on February 17, 2023\n",
            "140.0\n",
            "NVDA\n",
            "Option contracts are not available on February 17, 2023\n",
            "Option contracts are not available on February 17, 2023\n",
            "Option contracts are not available on February 17, 2023\n",
            "Option contracts are not available on February 17, 2023\n",
            "Option contracts are not available on February 17, 2023\n",
            "Option contracts are not available on February 17, 2023\n",
            "Option contracts are not available on February 17, 2023\n",
            "Option contracts are not available on February 17, 2023\n",
            "Option contracts are not available on February 17, 2023\n",
            "Option contracts are not available on February 17, 2023\n",
            "Option contracts are not available on February 17, 2023\n",
            "Option contracts are not available on February 17, 2023\n",
            "843.8200073242188\n",
            "ORLY\n",
            "Option contracts are not available on February 17, 2023\n",
            "61.939998626708984\n",
            "OXY\n",
            "Option contracts are not available on February 17, 2023\n",
            "300.1300048828125\n",
            "PAYC\n",
            "Option contracts are not available on February 17, 2023\n",
            "99.5199966430664\n",
            "PCAR\n",
            "Option contracts are not available on February 17, 2023\n",
            "Option contracts are not available on February 17, 2023\n",
            "Option contracts are not available on February 17, 2023\n",
            "Option contracts are not available on February 17, 2023\n",
            "50.900001525878906\n",
            "PFE\n",
            "Option contracts are not available on February 17, 2023\n",
            "Option contracts are not available on February 17, 2023\n",
            "130.22999572753906\n",
            "PGR\n",
            "288.42999267578125\n",
            "PH\n",
            "Option contracts are not available on February 17, 2023\n",
            "Option contracts are not available on February 17, 2023\n",
            "Option contracts are not available on February 17, 2023\n",
            "111.45999908447266\n",
            "PLD\n",
            "Option contracts are not available on February 17, 2023\n",
            "155.6300048828125\n",
            "PNC\n",
            "44.15999984741211\n",
            "PNR\n",
            "Option contracts are not available on February 17, 2023\n",
            "Option contracts are not available on February 17, 2023\n",
            "125.49500274658203\n",
            "PPG\n",
            "Option contracts are not available on February 17, 2023\n",
            "Option contracts are not available on February 17, 2023\n",
            "Option contracts are not available on February 17, 2023\n",
            "102.37999725341797\n",
            "PSX\n",
            "Option contracts are not available on February 17, 2023\n",
            "141.25999450683594\n",
            "PWR\n",
            "Option contracts are not available on February 17, 2023\n",
            "Option contracts are not available on February 17, 2023\n",
            "Option contracts are not available on February 17, 2023\n",
            "87.5999984741211\n",
            "QRVO\n",
            "Option contracts are not available on February 17, 2023\n",
            "Option contracts are not available on February 17, 2023\n",
            "Option contracts are not available on February 17, 2023\n",
            "709.9299926757812\n",
            "REGN\n",
            "21.165000915527344\n",
            "RF\n",
            "Option contracts are not available on February 17, 2023\n",
            "106.68499755859375\n",
            "RJF\n",
            "Option contracts are not available on February 17, 2023\n",
            "Option contracts are not available on February 17, 2023\n",
            "Option contracts are not available on February 17, 2023\n",
            "36.78499984741211\n",
            "ROL\n",
            "429.4049987792969\n",
            "ROP\n",
            "114.75\n",
            "ROST\n",
            "Option contracts are not available on February 17, 2023\n",
            "99.37000274658203\n",
            "RTX\n",
            "Option contracts are not available on February 17, 2023\n",
            "Option contracts are not available on February 17, 2023\n",
            "Option contracts are not available on February 17, 2023\n",
            "Option contracts are not available on February 17, 2023\n",
            "Option contracts are not available on February 17, 2023\n",
            "Option contracts are not available on February 17, 2023\n",
            "Option contracts are not available on February 17, 2023\n",
            "213.3699951171875\n",
            "SIVB\n",
            "Option contracts are not available on February 17, 2023\n",
            "52.11000061035156\n",
            "SLB\n",
            "Option contracts are not available on February 17, 2023\n",
            "Option contracts are not available on February 17, 2023\n",
            "71.66999816894531\n",
            "SO\n",
            "Option contracts are not available on February 17, 2023\n",
            "331.2449951171875\n",
            "SPGI\n",
            "Option contracts are not available on February 17, 2023\n",
            "Option contracts are not available on February 17, 2023\n",
            "100.13500213623047\n",
            "STLD\n",
            "76.7249984741211\n",
            "STT\n",
            "Option contracts are not available on February 17, 2023\n",
            "Option contracts are not available on February 17, 2023\n",
            "Option contracts are not available on February 17, 2023\n",
            "86.32499694824219\n",
            "SWKS\n",
            "Option contracts are not available on February 17, 2023\n",
            "Option contracts are not available on February 17, 2023\n",
            "77.16999816894531\n",
            "SYY\n",
            "Option contracts are not available on February 17, 2023\n",
            "Option contracts are not available on February 17, 2023\n",
            "619.4400024414062\n",
            "TDG\n",
            "Option contracts are not available on February 17, 2023\n",
            "Option contracts are not available on February 17, 2023\n",
            "Option contracts are not available on February 17, 2023\n",
            "Option contracts are not available on February 17, 2023\n",
            "Option contracts are not available on February 17, 2023\n",
            "Option contracts are not available on February 17, 2023\n",
            "Option contracts are not available on February 17, 2023\n",
            "Option contracts are not available on February 17, 2023\n",
            "Option contracts are not available on February 17, 2023\n",
            "139.6300048828125\n",
            "TMUS\n",
            "36.540000915527344\n",
            "TPR\n",
            "Option contracts are not available on February 17, 2023\n",
            "48.70000076293945\n",
            "TRMB\n",
            "Option contracts are not available on February 17, 2023\n",
            "Option contracts are not available on February 17, 2023\n",
            "Option contracts are not available on February 17, 2023\n",
            "Option contracts are not available on February 17, 2023\n",
            "Option contracts are not available on February 17, 2023\n",
            "Option contracts are not available on February 17, 2023\n",
            "Option contracts are not available on February 17, 2023\n",
            "Option contracts are not available on February 17, 2023\n",
            "Option contracts are not available on February 17, 2023\n",
            "Option contracts are not available on February 17, 2023\n",
            "Option contracts are not available on February 17, 2023\n",
            "Option contracts are not available on February 17, 2023\n",
            "Option contracts are not available on February 17, 2023\n",
            "Option contracts are not available on February 17, 2023\n",
            "Option contracts are not available on February 17, 2023\n",
            "208.02000427246094\n",
            "UNP\n",
            "Option contracts are not available on February 17, 2023\n",
            "Option contracts are not available on February 17, 2023\n",
            "Option contracts are not available on February 17, 2023\n",
            "Option contracts are not available on February 17, 2023\n",
            "25.739999771118164\n",
            "VFC\n",
            "Option contracts are not available on February 17, 2023\n",
            "Option contracts are not available on February 17, 2023\n",
            "174.69500732421875\n",
            "VMC\n",
            "Option contracts are not available on February 17, 2023\n",
            "Option contracts are not available on February 17, 2023\n",
            "Option contracts are not available on February 17, 2023\n",
            "Option contracts are not available on February 17, 2023\n",
            "45.2599983215332\n",
            "VTR\n",
            "Option contracts are not available on February 17, 2023\n",
            "Option contracts are not available on February 17, 2023\n",
            "Option contracts are not available on February 17, 2023\n",
            "342.70001220703125\n",
            "WAT\n",
            "Option contracts are not available on February 17, 2023\n",
            "Option contracts are not available on February 17, 2023\n",
            "Option contracts are not available on February 17, 2023\n",
            "Option contracts are not available on February 17, 2023\n",
            "Option contracts are not available on February 17, 2023\n",
            "Option contracts are not available on February 17, 2023\n",
            "Option contracts are not available on February 17, 2023\n",
            "Option contracts are not available on February 17, 2023\n",
            "32.71500015258789\n",
            "WMB\n",
            "Option contracts are not available on February 17, 2023\n",
            "Option contracts are not available on February 17, 2023\n",
            "Option contracts are not available on February 17, 2023\n",
            "Option contracts are not available on February 17, 2023\n",
            "Option contracts are not available on February 17, 2023\n",
            "Option contracts are not available on February 17, 2023\n",
            "Option contracts are not available on February 17, 2023\n",
            "Option contracts are not available on February 17, 2023\n",
            "Option contracts are not available on February 17, 2023\n",
            "Option contracts are not available on February 17, 2023\n",
            "Option contracts are not available on February 17, 2023\n",
            "Option contracts are not available on February 17, 2023\n",
            "Option contracts are not available on February 17, 2023\n",
            "248.50999450683594\n",
            "ZBRA\n",
            "Option contracts are not available on February 17, 2023\n",
            "Option contracts are not available on February 17, 2023\n"
          ]
        }
      ],
      "source": [
        "# Let’s go for February 17th (any of the dates will do)\n",
        "expiry_date = get_expiration_dates(sp_stocks[0])[1]\n",
        "data = pd.DataFrame()\n",
        "\n",
        "for item in sp_stocks:\n",
        "  try:\n",
        "    price = get_live_price(item)\n",
        "    option = get_calls(item ,expiry_date)\n",
        "    option['CurrentPrice'] = price\n",
        "    option['Ticker'] = item\n",
        "    option['DateExp'] =expiry_date\n",
        "    data = data.append(option)\n",
        "    print(price)\n",
        "    print(item)\n",
        "  except:\n",
        "    print('Option contracts are not available on {}'.format(expiry_date))\n",
        "    pass\n",
        "    "
      ]
    },
    {
      "cell_type": "code",
      "execution_count": null,
      "metadata": {
        "colab": {
          "background_save": true
        },
        "id": "CJ7DLuUVDq9A",
        "outputId": "1e2f8cea-de93-44c5-ff3e-12cd643b755a"
      },
      "outputs": [
        {
          "data": {
            "text/html": [
              "\n",
              "  <div id=\"df-ff74f964-87e8-4edf-8ab5-2193ab67308c\">\n",
              "    <div class=\"colab-df-container\">\n",
              "      <div>\n",
              "<style scoped>\n",
              "    .dataframe tbody tr th:only-of-type {\n",
              "        vertical-align: middle;\n",
              "    }\n",
              "\n",
              "    .dataframe tbody tr th {\n",
              "        vertical-align: top;\n",
              "    }\n",
              "\n",
              "    .dataframe thead th {\n",
              "        text-align: right;\n",
              "    }\n",
              "</style>\n",
              "<table border=\"1\" class=\"dataframe\">\n",
              "  <thead>\n",
              "    <tr style=\"text-align: right;\">\n",
              "      <th></th>\n",
              "      <th>Contract Name</th>\n",
              "      <th>Last Trade Date</th>\n",
              "      <th>Strike</th>\n",
              "      <th>Last Price</th>\n",
              "      <th>Bid</th>\n",
              "      <th>Ask</th>\n",
              "      <th>Change</th>\n",
              "      <th>% Change</th>\n",
              "      <th>Volume</th>\n",
              "      <th>Open Interest</th>\n",
              "      <th>Implied Volatility</th>\n",
              "      <th>CurrentPrice</th>\n",
              "      <th>Ticker</th>\n",
              "      <th>DateExp</th>\n",
              "    </tr>\n",
              "  </thead>\n",
              "  <tbody>\n",
              "    <tr>\n",
              "      <th>0</th>\n",
              "      <td>A230217C00090000</td>\n",
              "      <td>2022-09-23 2:50PM EST</td>\n",
              "      <td>90.0</td>\n",
              "      <td>36.00</td>\n",
              "      <td>41.4</td>\n",
              "      <td>43.6</td>\n",
              "      <td>0.0</td>\n",
              "      <td>-</td>\n",
              "      <td>1</td>\n",
              "      <td>1</td>\n",
              "      <td>0.00%</td>\n",
              "      <td>149.179993</td>\n",
              "      <td>A</td>\n",
              "      <td>February 17, 2023</td>\n",
              "    </tr>\n",
              "    <tr>\n",
              "      <th>1</th>\n",
              "      <td>A230217C00100000</td>\n",
              "      <td>2022-08-17 1:34PM EST</td>\n",
              "      <td>100.0</td>\n",
              "      <td>46.60</td>\n",
              "      <td>32.9</td>\n",
              "      <td>34.2</td>\n",
              "      <td>0.0</td>\n",
              "      <td>-</td>\n",
              "      <td>7</td>\n",
              "      <td>3</td>\n",
              "      <td>0.00%</td>\n",
              "      <td>149.179993</td>\n",
              "      <td>A</td>\n",
              "      <td>February 17, 2023</td>\n",
              "    </tr>\n",
              "    <tr>\n",
              "      <th>2</th>\n",
              "      <td>A230217C00110000</td>\n",
              "      <td>2022-12-05 11:25AM EST</td>\n",
              "      <td>110.0</td>\n",
              "      <td>44.53</td>\n",
              "      <td>39.1</td>\n",
              "      <td>40.9</td>\n",
              "      <td>0.0</td>\n",
              "      <td>-</td>\n",
              "      <td>1</td>\n",
              "      <td>1</td>\n",
              "      <td>54.74%</td>\n",
              "      <td>149.179993</td>\n",
              "      <td>A</td>\n",
              "      <td>February 17, 2023</td>\n",
              "    </tr>\n",
              "    <tr>\n",
              "      <th>3</th>\n",
              "      <td>A230217C00120000</td>\n",
              "      <td>2022-08-09 11:23AM EST</td>\n",
              "      <td>120.0</td>\n",
              "      <td>18.80</td>\n",
              "      <td>20.7</td>\n",
              "      <td>21.3</td>\n",
              "      <td>0.0</td>\n",
              "      <td>-</td>\n",
              "      <td>1</td>\n",
              "      <td>1</td>\n",
              "      <td>0.00%</td>\n",
              "      <td>149.179993</td>\n",
              "      <td>A</td>\n",
              "      <td>February 17, 2023</td>\n",
              "    </tr>\n",
              "    <tr>\n",
              "      <th>4</th>\n",
              "      <td>A230217C00125000</td>\n",
              "      <td>2022-11-10 2:25PM EST</td>\n",
              "      <td>125.0</td>\n",
              "      <td>24.85</td>\n",
              "      <td>29.5</td>\n",
              "      <td>31.4</td>\n",
              "      <td>0.0</td>\n",
              "      <td>-</td>\n",
              "      <td>2</td>\n",
              "      <td>57</td>\n",
              "      <td>75.24%</td>\n",
              "      <td>149.179993</td>\n",
              "      <td>A</td>\n",
              "      <td>February 17, 2023</td>\n",
              "    </tr>\n",
              "  </tbody>\n",
              "</table>\n",
              "</div>\n",
              "      <button class=\"colab-df-convert\" onclick=\"convertToInteractive('df-ff74f964-87e8-4edf-8ab5-2193ab67308c')\"\n",
              "              title=\"Convert this dataframe to an interactive table.\"\n",
              "              style=\"display:none;\">\n",
              "        \n",
              "  <svg xmlns=\"http://www.w3.org/2000/svg\" height=\"24px\"viewBox=\"0 0 24 24\"\n",
              "       width=\"24px\">\n",
              "    <path d=\"M0 0h24v24H0V0z\" fill=\"none\"/>\n",
              "    <path d=\"M18.56 5.44l.94 2.06.94-2.06 2.06-.94-2.06-.94-.94-2.06-.94 2.06-2.06.94zm-11 1L8.5 8.5l.94-2.06 2.06-.94-2.06-.94L8.5 2.5l-.94 2.06-2.06.94zm10 10l.94 2.06.94-2.06 2.06-.94-2.06-.94-.94-2.06-.94 2.06-2.06.94z\"/><path d=\"M17.41 7.96l-1.37-1.37c-.4-.4-.92-.59-1.43-.59-.52 0-1.04.2-1.43.59L10.3 9.45l-7.72 7.72c-.78.78-.78 2.05 0 2.83L4 21.41c.39.39.9.59 1.41.59.51 0 1.02-.2 1.41-.59l7.78-7.78 2.81-2.81c.8-.78.8-2.07 0-2.86zM5.41 20L4 18.59l7.72-7.72 1.47 1.35L5.41 20z\"/>\n",
              "  </svg>\n",
              "      </button>\n",
              "      \n",
              "  <style>\n",
              "    .colab-df-container {\n",
              "      display:flex;\n",
              "      flex-wrap:wrap;\n",
              "      gap: 12px;\n",
              "    }\n",
              "\n",
              "    .colab-df-convert {\n",
              "      background-color: #E8F0FE;\n",
              "      border: none;\n",
              "      border-radius: 50%;\n",
              "      cursor: pointer;\n",
              "      display: none;\n",
              "      fill: #1967D2;\n",
              "      height: 32px;\n",
              "      padding: 0 0 0 0;\n",
              "      width: 32px;\n",
              "    }\n",
              "\n",
              "    .colab-df-convert:hover {\n",
              "      background-color: #E2EBFA;\n",
              "      box-shadow: 0px 1px 2px rgba(60, 64, 67, 0.3), 0px 1px 3px 1px rgba(60, 64, 67, 0.15);\n",
              "      fill: #174EA6;\n",
              "    }\n",
              "\n",
              "    [theme=dark] .colab-df-convert {\n",
              "      background-color: #3B4455;\n",
              "      fill: #D2E3FC;\n",
              "    }\n",
              "\n",
              "    [theme=dark] .colab-df-convert:hover {\n",
              "      background-color: #434B5C;\n",
              "      box-shadow: 0px 1px 3px 1px rgba(0, 0, 0, 0.15);\n",
              "      filter: drop-shadow(0px 1px 2px rgba(0, 0, 0, 0.3));\n",
              "      fill: #FFFFFF;\n",
              "    }\n",
              "  </style>\n",
              "\n",
              "      <script>\n",
              "        const buttonEl =\n",
              "          document.querySelector('#df-ff74f964-87e8-4edf-8ab5-2193ab67308c button.colab-df-convert');\n",
              "        buttonEl.style.display =\n",
              "          google.colab.kernel.accessAllowed ? 'block' : 'none';\n",
              "\n",
              "        async function convertToInteractive(key) {\n",
              "          const element = document.querySelector('#df-ff74f964-87e8-4edf-8ab5-2193ab67308c');\n",
              "          const dataTable =\n",
              "            await google.colab.kernel.invokeFunction('convertToInteractive',\n",
              "                                                     [key], {});\n",
              "          if (!dataTable) return;\n",
              "\n",
              "          const docLinkHtml = 'Like what you see? Visit the ' +\n",
              "            '<a target=\"_blank\" href=https://colab.research.google.com/notebooks/data_table.ipynb>data table notebook</a>'\n",
              "            + ' to learn more about interactive tables.';\n",
              "          element.innerHTML = '';\n",
              "          dataTable['output_type'] = 'display_data';\n",
              "          await google.colab.output.renderOutput(dataTable, element);\n",
              "          const docLink = document.createElement('div');\n",
              "          docLink.innerHTML = docLinkHtml;\n",
              "          element.appendChild(docLink);\n",
              "        }\n",
              "      </script>\n",
              "    </div>\n",
              "  </div>\n",
              "  "
            ],
            "text/plain": [
              "      Contract Name         Last Trade Date  Strike  Last Price   Bid   Ask  \\\n",
              "0  A230217C00090000   2022-09-23 2:50PM EST    90.0       36.00  41.4  43.6   \n",
              "1  A230217C00100000   2022-08-17 1:34PM EST   100.0       46.60  32.9  34.2   \n",
              "2  A230217C00110000  2022-12-05 11:25AM EST   110.0       44.53  39.1  40.9   \n",
              "3  A230217C00120000  2022-08-09 11:23AM EST   120.0       18.80  20.7  21.3   \n",
              "4  A230217C00125000   2022-11-10 2:25PM EST   125.0       24.85  29.5  31.4   \n",
              "\n",
              "   Change % Change Volume  Open Interest Implied Volatility  CurrentPrice  \\\n",
              "0     0.0        -      1              1              0.00%    149.179993   \n",
              "1     0.0        -      7              3              0.00%    149.179993   \n",
              "2     0.0        -      1              1             54.74%    149.179993   \n",
              "3     0.0        -      1              1              0.00%    149.179993   \n",
              "4     0.0        -      2             57             75.24%    149.179993   \n",
              "\n",
              "  Ticker            DateExp  \n",
              "0      A  February 17, 2023  \n",
              "1      A  February 17, 2023  \n",
              "2      A  February 17, 2023  \n",
              "3      A  February 17, 2023  \n",
              "4      A  February 17, 2023  "
            ]
          },
          "execution_count": 8,
          "metadata": {},
          "output_type": "execute_result"
        }
      ],
      "source": [
        "data.head()"
      ]
    },
    {
      "cell_type": "code",
      "execution_count": null,
      "metadata": {
        "colab": {
          "background_save": true
        },
        "id": "8jRrrz-yHbgY",
        "outputId": "4059fffc-f482-417e-93de-faec12ea3ade"
      },
      "outputs": [
        {
          "data": {
            "text/plain": [
              "(2958, 14)"
            ]
          },
          "execution_count": 9,
          "metadata": {},
          "output_type": "execute_result"
        }
      ],
      "source": [
        "data.shape"
      ]
    },
    {
      "cell_type": "code",
      "execution_count": null,
      "metadata": {
        "colab": {
          "background_save": true
        },
        "id": "RxMY_QAPqsrN"
      },
      "outputs": [],
      "source": [
        "# Let's Consider the necessary columns now, and remove the other columns \n",
        "data  = data[['Contract Name', 'Strike','Bid','Ask', 'CurrentPrice', 'Volume', 'Open Interest', 'Ticker', 'DateExp']]"
      ]
    },
    {
      "cell_type": "code",
      "execution_count": null,
      "metadata": {
        "colab": {
          "background_save": true
        },
        "id": "eW3aDe3vrQKn",
        "outputId": "13d47593-20b4-4b6c-ccb3-ba183fe9ec17"
      },
      "outputs": [
        {
          "name": "stderr",
          "output_type": "stream",
          "text": [
            "<ipython-input-11-f1c4a37648bd>:2: SettingWithCopyWarning: \n",
            "A value is trying to be set on a copy of a slice from a DataFrame.\n",
            "Try using .loc[row_indexer,col_indexer] = value instead\n",
            "\n",
            "See the caveats in the documentation: https://pandas.pydata.org/pandas-docs/stable/user_guide/indexing.html#returning-a-view-versus-a-copy\n",
            "  data['Option_Price'] = (data['Ask'] +data['Bid'])/2.0\n"
          ]
        }
      ],
      "source": [
        "# We will calculate the option of price by taking the average of Bid and Ask Column\n",
        "data['Option_Price'] = (data['Ask'] +data['Bid'])/2.0"
      ]
    },
    {
      "cell_type": "code",
      "execution_count": null,
      "metadata": {
        "colab": {
          "background_save": true
        },
        "id": "taX7vNxJr_Kt"
      },
      "outputs": [],
      "source": []
    },
    {
      "cell_type": "markdown",
      "metadata": {
        "id": "PfrVFJgEsH7T"
      },
      "source": [
        "### Now we will visualize the different possible cases:\n",
        "Use the following equation to generate the payoffs and breakeven point:\n",
        "![image.png](data:image/png;base64,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)"
      ]
    },
    {
      "cell_type": "code",
      "execution_count": null,
      "metadata": {
        "colab": {
          "background_save": true
        },
        "id": "Fz8L_FcCs3xQ",
        "outputId": "67cdc64e-fd3e-4102-fe73-08192935c995"
      },
      "outputs": [
        {
          "name": "stderr",
          "output_type": "stream",
          "text": [
            "<ipython-input-12-3b447609f0a0>:2: SettingWithCopyWarning: \n",
            "A value is trying to be set on a copy of a slice from a DataFrame.\n",
            "Try using .loc[row_indexer,col_indexer] = value instead\n",
            "\n",
            "See the caveats in the documentation: https://pandas.pydata.org/pandas-docs/stable/user_guide/indexing.html#returning-a-view-versus-a-copy\n",
            "  data['breakeven'] = (data['Strike']-data['Option_Price'])/data['CurrentPrice'] -1\n"
          ]
        }
      ],
      "source": [
        "# Now, add the breakeven point i.e. x:\n",
        "data['breakeven'] = (data['Strike']-data['Option_Price'])/data['CurrentPrice'] -1"
      ]
    },
    {
      "cell_type": "markdown",
      "metadata": {
        "id": "ymMqGJKh03lc"
      },
      "source": [
        "### Here, I consider the contract of 100 stocks, and for visualization consider the shares of PNC"
      ]
    },
    {
      "cell_type": "code",
      "execution_count": null,
      "metadata": {
        "colab": {
          "background_save": true
        },
        "id": "QTIgLyhFxgMG"
      },
      "outputs": [],
      "source": [
        "def generate_payoff(x, dataset):\n",
        "    new_price = dataset['CurrentPrice']*(1+x)\n",
        "    cost = 100*new_price - 100*dataset['Strike']- 100*dataset['Option_Price']\n",
        "    if (cost>=0):\n",
        "      payoff = cost\n",
        "    else:\n",
        "      payoff = -100*dataset['Option_Price']  \n",
        "\n",
        "    return payoff   \n"
      ]
    },
    {
      "cell_type": "code",
      "execution_count": null,
      "metadata": {
        "colab": {
          "background_save": true
        },
        "id": "qUhfqhTdx9UC",
        "outputId": "1701e6e6-b1f2-434a-de4d-59ac33ec36be"
      },
      "outputs": [
        {
          "data": {
            "image/png": "[encoded data removed]",
            "text/plain": [
              "<Figure size 432x288 with 1 Axes>"
            ]
          },
          "metadata": {},
          "output_type": "display_data"
        }
      ],
      "source": [
        "## let look at cases where price change can take from -50% to 50%:\n",
        "x = np.arange(-50, 50, 1)\n",
        "payoffs = []\n",
        "for p in x:\n",
        "   payoff = generate_payoff(\n",
        "   p*0.01,data[data.Ticker == 'PNC'].iloc[6])\n",
        "   payoffs.append(payoff)\n",
        "plt.bar(x, payoffs)\n",
        "plt.xlabel('Price % Change from start date to expiration')\n",
        "plt.ylabel('Payoff ($)')\n",
        "plt.title('Payoffs for PNC under various price changes');\n"
      ]
    },
    {
      "cell_type": "code",
      "execution_count": null,
      "metadata": {
        "colab": {
          "background_save": true
        },
        "id": "TZslq7tb2Ju6"
      },
      "outputs": [],
      "source": []
    },
    {
      "cell_type": "markdown",
      "metadata": {
        "id": "9_a3K9YITH-E"
      },
      "source": [
        "### Now we look into generating expected payoff, using the following equation:\n",
        "![image.png](data:image/png;base64,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)\n",
        "```\n",
        "`# This is formatted as code`\n",
        "```\n",
        "\n",
        "\n",
        "<p> But we also need to find the probability for respective 'x' value, let's find out that </p>"
      ]
    },
    {
      "cell_type": "code",
      "execution_count": null,
      "metadata": {
        "colab": {
          "background_save": true
        },
        "id": "8Rm9d2952KRC"
      },
      "outputs": [],
      "source": [
        "import random\n",
        "import datetime"
      ]
    },
    {
      "cell_type": "code",
      "execution_count": null,
      "metadata": {
        "colab": {
          "background_save": true
        },
        "id": "C8MddApqGGAH"
      },
      "outputs": [],
      "source": [
        "# Create a distribution function:\n",
        "def sample_dist(stock, duration, sample_size):\n",
        "  stock = get_data(stock).close\n",
        "  dates  = list(stock.index)\n",
        "  duration = int(duration)\n",
        "  sample_size = int(sample_size)\n",
        "  results = []\n",
        "  for i in range(sample_size):\n",
        "    try:\n",
        "      a = random.randint(0,sample_size-1)\n",
        "      start = stock[a]\n",
        "      stop = stock[a + duration]\n",
        "      difference = (stop -start)/(start*1.0)\n",
        "      results.append(difference)\n",
        "    except:\n",
        "      pass\n",
        "\n",
        "  return results    "
      ]
    },
    {
      "cell_type": "code",
      "execution_count": null,
      "metadata": {
        "colab": {
          "background_save": true
        },
        "id": "cRzWBfkRRYtX"
      },
      "outputs": [],
      "source": [
        "# Creating bins for respective difference percantage, because we have to count in how many cases price change by x%\n",
        "def create_bin(diff):\n",
        "  bins= []\n",
        "  for bin in range(101):  # have range from -50 to +50\n",
        "     index = (bin-50)*0.01\n",
        "     def in_which_bin(x):\n",
        "       return (x<=index+0.01) and (x>index) # tolerance of 1%\n",
        "     count = list(filter(in_which_bin,diff))\n",
        "     amount = len(count)/len(diff)  #amount is percent of total\n",
        "     bins.append(amount)\n",
        "  return(bins)\n"
      ]
    },
    {
      "cell_type": "code",
      "execution_count": null,
      "metadata": {
        "colab": {
          "background_save": true
        },
        "id": "leiSYDBwY3JH"
      },
      "outputs": [],
      "source": []
    },
    {
      "cell_type": "code",
      "execution_count": null,
      "metadata": {
        "colab": {
          "background_save": true
        },
        "id": "wbVE38qwY6He"
      },
      "outputs": [],
      "source": [
        "#EXAMPLE : SAMPLE SIZE 200\n",
        "def visualize(ticker, days,size):\n",
        "  changes = sample_dist(ticker,days,size)\n",
        "  binned_changes = create_bin(changes)\n",
        "  x_axis = np.arange(-50, 51, 1)\n",
        "  plt.bar(x_axis, binned_changes)\n",
        "  plt.xlabel('Stock Price % Change')\n",
        "  plt.ylabel('Probability')\n",
        "  plt.title('{}: Probability Distribution- {} day price change(Sample Size={})'.format(ticker,days,size));\n"
      ]
    },
    {
      "cell_type": "code",
      "execution_count": null,
      "metadata": {
        "colab": {
          "background_save": true
        },
        "id": "4SSmA7SCZFVi",
        "outputId": "180e60d6-421d-47b7-de36-9e046349db6b"
      },
      "outputs": [
        {
          "data": {
            "image/png": "[encoded data removed]",
            "text/plain": [
              "<Figure size 432x288 with 1 Axes>"
            ]
          },
          "metadata": {},
          "output_type": "display_data"
        }
      ],
      "source": [
        "visualize('AAPL',14,200)"
      ]
    },
    {
      "cell_type": "code",
      "execution_count": null,
      "metadata": {
        "colab": {
          "background_save": true
        },
        "id": "amUf0hcMZ5q9",
        "outputId": "914f360e-16ad-4774-81bf-7a65849494ba"
      },
      "outputs": [
        {
          "data": {
            "image/png": "[encoded data removed]",
            "text/plain": [
              "<Figure size 432x288 with 1 Axes>"
            ]
          },
          "metadata": {},
          "output_type": "display_data"
        }
      ],
      "source": [
        "visualize('AAPL',14,10000)"
      ]
    },
    {
      "cell_type": "code",
      "execution_count": null,
      "metadata": {
        "colab": {
          "background_save": true
        },
        "id": "WMd19IaRczQC",
        "outputId": "9822c83b-9778-4c1a-a0ea-4b2fc457b408"
      },
      "outputs": [
        {
          "data": {
            "image/png": "[encoded data removed]",
            "text/plain": [
              "<Figure size 432x288 with 1 Axes>"
            ]
          },
          "metadata": {},
          "output_type": "display_data"
        }
      ],
      "source": [
        "visualize('PNC',14,10000)"
      ]
    },
    {
      "cell_type": "code",
      "execution_count": null,
      "metadata": {
        "colab": {
          "background_save": true
        },
        "id": "CkalcOd8c-Za"
      },
      "outputs": [],
      "source": [
        "# Finding the time till exist and creatind a dictionary to record probabilties for eack stock\n",
        "from datetime import date\n",
        "from datetime import datetime\n",
        "timedate_until_exp = datetime.strptime(expiry_date, '%B %d, %Y') - datetime.today()\n",
        "days_remaining = int(timedate_until_exp.days)\n",
        "unique_tickers = data['Ticker'].unique().tolist()\n",
        "sample_size=5000\n",
        "dictionary= dict()\n",
        "for ticker in unique_tickers:\n",
        "  changes = sample_dist(ticker,days_remaining,sample_size)\n",
        "  ticker_list = create_bin(changes)\n",
        "  dictionary.update({ticker:ticker_list})\n"
      ]
    },
    {
      "cell_type": "code",
      "execution_count": null,
      "metadata": {
        "colab": {
          "background_save": true
        },
        "id": "SPcvUIR9e4kQ",
        "outputId": "94dd7138-acec-4bfd-a3ad-5edbd148fa79"
      },
      "outputs": [
        {
          "data": {
            "text/plain": [
              "Text(0.5, 1.0, '50 day average % price change for BLK')"
            ]
          },
          "execution_count": 23,
          "metadata": {},
          "output_type": "execute_result"
        },
        {
          "data": {
            "image/png": "[encoded data removed]",
            "text/plain": [
              "<Figure size 432x288 with 1 Axes>"
            ]
          },
          "metadata": {},
          "output_type": "display_data"
        }
      ],
      "source": [
        "x = np.arange(-50,51,1)\n",
        "num = random.randint(0,data['Ticker'].nunique()-1)\n",
        "plt.bar(x,dictionary[unique_tickers[num]])\n",
        "plt.xlabel('Stock Price % Change')\n",
        "plt.ylabel('Probability')\n",
        "plt.title(str(days_remaining) + \" day average % price change for \" + str(unique_tickers[num]))"
      ]
    },
    {
      "cell_type": "code",
      "execution_count": null,
      "metadata": {
        "colab": {
          "background_save": true
        },
        "id": "19BovT_2fkt7"
      },
      "outputs": [],
      "source": [
        "# Calculate the Expected payoffs for each ticker:\n",
        "x=  np.arange(-50,51,1)\n",
        "expected_pay =[]\n",
        "for i in range(data.shape[0]):\n",
        "  payoffs =[]\n",
        "  stock = data.iloc[i].Ticker\n",
        "  for p in range(len(x)):\n",
        "    percent = (p-50)*0.01\n",
        "    payoff = generate_payoff(percent,data.iloc[i])\n",
        "    payoffs.append(payoff)\n",
        "\n",
        "  #Now taking out probabilites:\n",
        "  probs = dictionary[stock]  \n",
        "  expected_value = sum(np.array(probs)*np.array(payoffs))\n",
        "  expected_pay.append(expected_value)\n",
        "\n",
        "data['Expeceted_payoff'] = expected_pay\n",
        "\n"
      ]
    },
    {
      "cell_type": "code",
      "execution_count": null,
      "metadata": {
        "colab": {
          "background_save": true
        },
        "id": "LjmUOkvpkPeX",
        "outputId": "68777705-4072-4739-d928-5163236b54f0"
      },
      "outputs": [
        {
          "data": {
            "text/html": [
              "\n",
              "  <div id=\"df-dabca94f-27f8-48a3-a655-520cab9897ae\">\n",
              "    <div class=\"colab-df-container\">\n",
              "      <div>\n",
              "<style scoped>\n",
              "    .dataframe tbody tr th:only-of-type {\n",
              "        vertical-align: middle;\n",
              "    }\n",
              "\n",
              "    .dataframe tbody tr th {\n",
              "        vertical-align: top;\n",
              "    }\n",
              "\n",
              "    .dataframe thead th {\n",
              "        text-align: right;\n",
              "    }\n",
              "</style>\n",
              "<table border=\"1\" class=\"dataframe\">\n",
              "  <thead>\n",
              "    <tr style=\"text-align: right;\">\n",
              "      <th></th>\n",
              "      <th>Contract Name</th>\n",
              "      <th>Strike</th>\n",
              "      <th>Bid</th>\n",
              "      <th>Ask</th>\n",
              "      <th>CurrentPrice</th>\n",
              "      <th>Volume</th>\n",
              "      <th>Open Interest</th>\n",
              "      <th>Ticker</th>\n",
              "      <th>DateExp</th>\n",
              "      <th>Option_Price</th>\n",
              "      <th>breakeven</th>\n",
              "      <th>Expeceted_payoff</th>\n",
              "    </tr>\n",
              "  </thead>\n",
              "  <tbody>\n",
              "    <tr>\n",
              "      <th>0</th>\n",
              "      <td>A230217C00090000</td>\n",
              "      <td>90.0</td>\n",
              "      <td>41.4</td>\n",
              "      <td>43.6</td>\n",
              "      <td>149.179993</td>\n",
              "      <td>1</td>\n",
              "      <td>1</td>\n",
              "      <td>A</td>\n",
              "      <td>February 17, 2023</td>\n",
              "      <td>42.50</td>\n",
              "      <td>-0.681593</td>\n",
              "      <td>1428.969662</td>\n",
              "    </tr>\n",
              "    <tr>\n",
              "      <th>1</th>\n",
              "      <td>A230217C00100000</td>\n",
              "      <td>100.0</td>\n",
              "      <td>32.9</td>\n",
              "      <td>34.2</td>\n",
              "      <td>149.179993</td>\n",
              "      <td>7</td>\n",
              "      <td>3</td>\n",
              "      <td>A</td>\n",
              "      <td>February 17, 2023</td>\n",
              "      <td>33.55</td>\n",
              "      <td>-0.554565</td>\n",
              "      <td>1447.449352</td>\n",
              "    </tr>\n",
              "    <tr>\n",
              "      <th>2</th>\n",
              "      <td>A230217C00110000</td>\n",
              "      <td>110.0</td>\n",
              "      <td>39.1</td>\n",
              "      <td>40.9</td>\n",
              "      <td>149.179993</td>\n",
              "      <td>1</td>\n",
              "      <td>1</td>\n",
              "      <td>A</td>\n",
              "      <td>February 17, 2023</td>\n",
              "      <td>40.00</td>\n",
              "      <td>-0.530768</td>\n",
              "      <td>-830.445769</td>\n",
              "    </tr>\n",
              "    <tr>\n",
              "      <th>3</th>\n",
              "      <td>A230217C00120000</td>\n",
              "      <td>120.0</td>\n",
              "      <td>20.7</td>\n",
              "      <td>21.3</td>\n",
              "      <td>149.179993</td>\n",
              "      <td>1</td>\n",
              "      <td>1</td>\n",
              "      <td>A</td>\n",
              "      <td>February 17, 2023</td>\n",
              "      <td>21.00</td>\n",
              "      <td>-0.336372</td>\n",
              "      <td>911.971374</td>\n",
              "    </tr>\n",
              "    <tr>\n",
              "      <th>4</th>\n",
              "      <td>A230217C00125000</td>\n",
              "      <td>125.0</td>\n",
              "      <td>29.5</td>\n",
              "      <td>31.4</td>\n",
              "      <td>149.179993</td>\n",
              "      <td>2</td>\n",
              "      <td>57</td>\n",
              "      <td>A</td>\n",
              "      <td>February 17, 2023</td>\n",
              "      <td>30.45</td>\n",
              "      <td>-0.366202</td>\n",
              "      <td>-973.868033</td>\n",
              "    </tr>\n",
              "  </tbody>\n",
              "</table>\n",
              "</div>\n",
              "      <button class=\"colab-df-convert\" onclick=\"convertToInteractive('df-dabca94f-27f8-48a3-a655-520cab9897ae')\"\n",
              "              title=\"Convert this dataframe to an interactive table.\"\n",
              "              style=\"display:none;\">\n",
              "        \n",
              "  <svg xmlns=\"http://www.w3.org/2000/svg\" height=\"24px\"viewBox=\"0 0 24 24\"\n",
              "       width=\"24px\">\n",
              "    <path d=\"M0 0h24v24H0V0z\" fill=\"none\"/>\n",
              "    <path d=\"M18.56 5.44l.94 2.06.94-2.06 2.06-.94-2.06-.94-.94-2.06-.94 2.06-2.06.94zm-11 1L8.5 8.5l.94-2.06 2.06-.94-2.06-.94L8.5 2.5l-.94 2.06-2.06.94zm10 10l.94 2.06.94-2.06 2.06-.94-2.06-.94-.94-2.06-.94 2.06-2.06.94z\"/><path d=\"M17.41 7.96l-1.37-1.37c-.4-.4-.92-.59-1.43-.59-.52 0-1.04.2-1.43.59L10.3 9.45l-7.72 7.72c-.78.78-.78 2.05 0 2.83L4 21.41c.39.39.9.59 1.41.59.51 0 1.02-.2 1.41-.59l7.78-7.78 2.81-2.81c.8-.78.8-2.07 0-2.86zM5.41 20L4 18.59l7.72-7.72 1.47 1.35L5.41 20z\"/>\n",
              "  </svg>\n",
              "      </button>\n",
              "      \n",
              "  <style>\n",
              "    .colab-df-container {\n",
              "      display:flex;\n",
              "      flex-wrap:wrap;\n",
              "      gap: 12px;\n",
              "    }\n",
              "\n",
              "    .colab-df-convert {\n",
              "      background-color: #E8F0FE;\n",
              "      border: none;\n",
              "      border-radius: 50%;\n",
              "      cursor: pointer;\n",
              "      display: none;\n",
              "      fill: #1967D2;\n",
              "      height: 32px;\n",
              "      padding: 0 0 0 0;\n",
              "      width: 32px;\n",
              "    }\n",
              "\n",
              "    .colab-df-convert:hover {\n",
              "      background-color: #E2EBFA;\n",
              "      box-shadow: 0px 1px 2px rgba(60, 64, 67, 0.3), 0px 1px 3px 1px rgba(60, 64, 67, 0.15);\n",
              "      fill: #174EA6;\n",
              "    }\n",
              "\n",
              "    [theme=dark] .colab-df-convert {\n",
              "      background-color: #3B4455;\n",
              "      fill: #D2E3FC;\n",
              "    }\n",
              "\n",
              "    [theme=dark] .colab-df-convert:hover {\n",
              "      background-color: #434B5C;\n",
              "      box-shadow: 0px 1px 3px 1px rgba(0, 0, 0, 0.15);\n",
              "      filter: drop-shadow(0px 1px 2px rgba(0, 0, 0, 0.3));\n",
              "      fill: #FFFFFF;\n",
              "    }\n",
              "  </style>\n",
              "\n",
              "      <script>\n",
              "        const buttonEl =\n",
              "          document.querySelector('#df-dabca94f-27f8-48a3-a655-520cab9897ae button.colab-df-convert');\n",
              "        buttonEl.style.display =\n",
              "          google.colab.kernel.accessAllowed ? 'block' : 'none';\n",
              "\n",
              "        async function convertToInteractive(key) {\n",
              "          const element = document.querySelector('#df-dabca94f-27f8-48a3-a655-520cab9897ae');\n",
              "          const dataTable =\n",
              "            await google.colab.kernel.invokeFunction('convertToInteractive',\n",
              "                                                     [key], {});\n",
              "          if (!dataTable) return;\n",
              "\n",
              "          const docLinkHtml = 'Like what you see? Visit the ' +\n",
              "            '<a target=\"_blank\" href=https://colab.research.google.com/notebooks/data_table.ipynb>data table notebook</a>'\n",
              "            + ' to learn more about interactive tables.';\n",
              "          element.innerHTML = '';\n",
              "          dataTable['output_type'] = 'display_data';\n",
              "          await google.colab.output.renderOutput(dataTable, element);\n",
              "          const docLink = document.createElement('div');\n",
              "          docLink.innerHTML = docLinkHtml;\n",
              "          element.appendChild(docLink);\n",
              "        }\n",
              "      </script>\n",
              "    </div>\n",
              "  </div>\n",
              "  "
            ],
            "text/plain": [
              "      Contract Name  Strike   Bid   Ask  CurrentPrice Volume  Open Interest  \\\n",
              "0  A230217C00090000    90.0  41.4  43.6    149.179993      1              1   \n",
              "1  A230217C00100000   100.0  32.9  34.2    149.179993      7              3   \n",
              "2  A230217C00110000   110.0  39.1  40.9    149.179993      1              1   \n",
              "3  A230217C00120000   120.0  20.7  21.3    149.179993      1              1   \n",
              "4  A230217C00125000   125.0  29.5  31.4    149.179993      2             57   \n",
              "\n",
              "  Ticker            DateExp  Option_Price  breakeven  Expeceted_payoff  \n",
              "0      A  February 17, 2023         42.50  -0.681593       1428.969662  \n",
              "1      A  February 17, 2023         33.55  -0.554565       1447.449352  \n",
              "2      A  February 17, 2023         40.00  -0.530768       -830.445769  \n",
              "3      A  February 17, 2023         21.00  -0.336372        911.971374  \n",
              "4      A  February 17, 2023         30.45  -0.366202       -973.868033  "
            ]
          },
          "execution_count": 25,
          "metadata": {},
          "output_type": "execute_result"
        }
      ],
      "source": [
        "data.head()"
      ]
    },
    {
      "cell_type": "code",
      "execution_count": null,
      "metadata": {
        "colab": {
          "background_save": true
        },
        "id": "Lc1bEszfkQXa",
        "outputId": "9e16dd4f-febf-493d-b3e3-eab81fe17a7b"
      },
      "outputs": [
        {
          "data": {
            "text/plain": [
              "Text(0.5, 1.0, 'Frequency of Expected Gains and Losses')"
            ]
          },
          "execution_count": 26,
          "metadata": {},
          "output_type": "execute_result"
        },
        {
          "data": {
            "image/png": "[encoded data removed]",
            "text/plain": [
              "<Figure size 432x288 with 1 Axes>"
            ]
          },
          "metadata": {},
          "output_type": "display_data"
        }
      ],
      "source": [
        "plt.hist(expected_pay,bins=30 ,range=[-2000, 2000])\n",
        "plt.xlabel('Total Expected Gain/Loss of Contract in $')\n",
        "plt.ylabel('Frequency')\n",
        "plt.title(\"Frequency of Expected Gains and Losses\")\n"
      ]
    },
    {
      "cell_type": "code",
      "execution_count": null,
      "metadata": {
        "id": "w5NuEWc8l8g-"
      },
      "outputs": [],
      "source": []
    }
  ],
  "metadata": {
    "accelerator": "GPU",
    "colab": {
      "provenance": [],
      "authorship_tag": "ABX9TyNq1sQ2LwTKw+529a0VxsMt",
      "include_colab_link": true
    },
    "gpuClass": "standard",
    "kernelspec": {
      "display_name": "Python 3",
      "name": "python3"
    },
    "language_info": {
      "name": "python"
    }
  },
  "nbformat": 4,
  "nbformat_minor": 0
}